{
 "cells": [
  {
   "cell_type": "markdown",
   "metadata": {},
   "source": [
    "# Advent of Code 2023\n",
    "### Solving the global snow production crisis"
   ]
  },
  {
   "cell_type": "code",
   "execution_count": 1,
   "metadata": {},
   "outputs": [
    {
     "data": {
      "text/plain": [
       "54338"
      ]
     },
     "execution_count": 1,
     "metadata": {},
     "output_type": "execute_result"
    }
   ],
   "source": [
    "# Day 1 - Trebuchet calibration?? Amended documentation??\n",
    "# First digit and the last digit should form a single two-digit number\n",
    "\n",
    "# Part 1\n",
    "import os\n",
    "\n",
    "def get_num(line):\n",
    "    for c in line:\n",
    "        if c.isdigit():\n",
    "            first = c\n",
    "            break\n",
    "\n",
    "    for c in line[::-1]:\n",
    "        if c.isdigit():\n",
    "            last = c\n",
    "            break\n",
    "\n",
    "    return int(str(first) + str(last))\n",
    "\n",
    "ans = 0\n",
    "\n",
    "with open('data/puzzle_1.txt', 'r') as f:\n",
    "    for line in f:\n",
    "        ans += get_num(line)\n",
    "\n",
    "ans"
   ]
  },
  {
   "cell_type": "code",
   "execution_count": null,
   "metadata": {},
   "outputs": [],
   "source": [
    "# Day 2 - Snow Island\n",
    "\n",
    "# One bag, handful of colored cubes. Puzzle input example:\n",
    "# Game 1: 3 blue, 4 red; 1 red, 2 green, 6 blue; 2 green\n",
    "\n",
    "# Which games would have been possible if the bag contained only 12 red cubes, 13 green cubes, and 14 blue cubes?"
   ]
  },
  {
   "cell_type": "code",
   "execution_count": 7,
   "metadata": {},
   "outputs": [],
   "source": [
    "import os\n",
    "with open('data/puzzle_2.txt', 'r') as file:\n",
    "    games = file.read().split('\\n')\n",
    "\n",
    "def format_data(games):\n",
    "    idx = games.find(\":\")\n",
    "    res = games[idx + 1:]\n",
    "    res = res.split(\";\")\n",
    "    res = [i.split(',') for i in res]\n",
    "    games = []\n",
    "    for iteration in res:\n",
    "        games.append(make_dict(iteration))\n",
    "    return games\n",
    "\n",
    "def make_dict(game_iter):\n",
    "    result_dict = {}\n",
    "    for item in game_iter:\n",
    "        words = item.split()\n",
    "\n",
    "        color = words[1]\n",
    "        number = int(words[0]) \n",
    "        result_dict[color] = number\n",
    "\n",
    "    return result_dict\n",
    "\n",
    "# pass in every row to get list of dictionaries with each game iteration. idx + 1 represent game number\n",
    "# if part two wants me to keep track of game iteration i will askfjnm go for a peaceful walk\n",
    "a = format_data(games[0])"
   ]
  },
  {
   "cell_type": "code",
   "execution_count": 9,
   "metadata": {},
   "outputs": [],
   "source": [
    "all_games = [format_data(g) for g in games]"
   ]
  },
  {
   "cell_type": "code",
   "execution_count": 13,
   "metadata": {},
   "outputs": [],
   "source": [
    "all_game_id = []\n",
    "\n",
    "game_id=1\n",
    "for games in all_games:\n",
    "\n",
    "    allowed = []\n",
    "    for g in games:\n",
    "        r, g, b = g.get('red', 0), g.get('green', 0), g.get('blue', 0)\n",
    "        if r <= 12 and g <= 13 and b <= 14:\n",
    "            allowed.append(0)\n",
    "        else:\n",
    "            allowed.append(1)\n",
    "        \n",
    "    if sum(allowed) == 0:\n",
    "        all_game_id.append(game_id)\n",
    "\n",
    "    game_id+=1"
   ]
  },
  {
   "cell_type": "code",
   "execution_count": 22,
   "metadata": {},
   "outputs": [],
   "source": [
    "# Part 2\n",
    "\n",
    "# in each game you played, what is the fewest number of cubes of each color (in power)\n",
    "\n",
    "result = 0\n",
    "\n",
    "for games in all_games:\n",
    "    fewest_red = 0\n",
    "    fewest_green = 0\n",
    "    fewest_blue = 0\n",
    "    for g in games:\n",
    "        r, g, b = g.get('red', 0), g.get('green', 0), g.get('blue', 0)\n",
    "        if r > fewest_red:\n",
    "            fewest_red = r \n",
    "        if g > fewest_green:\n",
    "            fewest_green = g\n",
    "        if b > fewest_blue:\n",
    "            fewest_blue = b\n",
    "\n",
    "    result += (fewest_red * fewest_green * fewest_blue)"
   ]
  }
 ],
 "metadata": {
  "kernelspec": {
   "display_name": "Python 3",
   "language": "python",
   "name": "python3"
  },
  "language_info": {
   "codemirror_mode": {
    "name": "ipython",
    "version": 3
   },
   "file_extension": ".py",
   "mimetype": "text/x-python",
   "name": "python",
   "nbconvert_exporter": "python",
   "pygments_lexer": "ipython3",
   "version": "3.11.6"
  }
 },
 "nbformat": 4,
 "nbformat_minor": 2
}

{
 "cells": [
  {
   "cell_type": "markdown",
   "metadata": {},
   "source": [
    "# Advent of Code 2023\n",
    "### Solving the global snow production crisis"
   ]
  },
  {
   "cell_type": "code",
   "execution_count": 1,
   "metadata": {},
   "outputs": [
    {
     "data": {
      "text/plain": [
       "54338"
      ]
     },
     "execution_count": 1,
     "metadata": {},
     "output_type": "execute_result"
    }
   ],
   "source": [
    "# Day 1 - Trebuchet calibration?? Amended documentation??\n",
    "# First digit and the last digit should form a single two-digit number\n",
    "\n",
    "# Part 1\n",
    "import os\n",
    "\n",
    "def get_num(line):\n",
    "    for c in line:\n",
    "        if c.isdigit():\n",
    "            first = c\n",
    "            break\n",
    "\n",
    "    for c in line[::-1]:\n",
    "        if c.isdigit():\n",
    "            last = c\n",
    "            break\n",
    "\n",
    "    return int(str(first) + str(last))\n",
    "\n",
    "ans = 0\n",
    "\n",
    "with open('data/puzzle_1.txt', 'r') as f:\n",
    "    for line in f:\n",
    "        ans += get_num(line)\n",
    "\n",
    "ans"
   ]
  }
 ],
 "metadata": {
  "kernelspec": {
   "display_name": "Python 3",
   "language": "python",
   "name": "python3"
  },
  "language_info": {
   "codemirror_mode": {
    "name": "ipython",
    "version": 3
   },
   "file_extension": ".py",
   "mimetype": "text/x-python",
   "name": "python",
   "nbconvert_exporter": "python",
   "pygments_lexer": "ipython3",
   "version": "3.11.6"
  }
 },
 "nbformat": 4,
 "nbformat_minor": 2
}
